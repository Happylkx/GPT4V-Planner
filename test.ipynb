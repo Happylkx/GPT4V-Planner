{
 "cells": [
  {
   "cell_type": "code",
   "execution_count": 1,
   "metadata": {},
   "outputs": [],
   "source": [
    "%load_ext autoreload"
   ]
  },
  {
   "cell_type": "code",
   "execution_count": 2,
   "metadata": {},
   "outputs": [],
   "source": [
    "import base64\n",
    "import io\n",
    "import pickle\n",
    "import requests\n",
    "import numpy as np\n",
    "\n",
    "from PIL import Image\n",
    "import matplotlib.pyplot as plt\n",
    "\n",
    "import sys\n",
    "sys.path.append(\".\")\n",
    "import os\n",
    "# os.environ[\"OPENAI_API_KEY\"]=\"sk-xxxxxx\"\n"
   ]
  },
  {
   "cell_type": "code",
   "execution_count": 3,
   "metadata": {},
   "outputs": [],
   "source": [
    "from torchvision import transforms\n",
    "# from ..api.language_model import GPT4V\n",
    "# from ..api.segmentors import SAM\n",
    "from api.language_model import GPT4V\n",
    "from api.segmentors import SAM\n",
    "from api.detectors import OWLViT\n",
    "# from language_model import GPT4V\n",
    "# from segmentors import SAM\n",
    "from agent.agents import SegVLM, DetVLM, DetLLM"
   ]
  },
  {
   "cell_type": "code",
   "execution_count": 4,
   "metadata": {},
   "outputs": [],
   "source": [
    "\n",
    "test_image_path = \"service/sam/test.jpg\"\n",
    "\n",
    "# Load the image from the file path\n",
    "image = Image.open(test_image_path)\n",
    "\n",
    "\n",
    "prompt=\"\"\"task: Describe the image.\n",
    "          \"\"\"\n",
    "\n"
   ]
  },
  {
   "cell_type": "code",
   "execution_count": 13,
   "metadata": {},
   "outputs": [
    {
     "name": "stdout",
     "output_type": "stream",
     "text": [
      "The image depicts a landscape with a mix of natural and urban elements. In the forefront, there is lush greenery, consisting primarily of trees which take up the lower half of the photograph. Among the trees, a building with a red roof is visible, indicating a developed area nestled within the foliage.\n",
      "\n",
      "In the background, there are several buildings that vary in design, indicative of an urban skyline. Some of the buildings feature modern architecture with reflective glass windows, while others have more traditional roof structures. Far back in the scene, there are a few high-rise buildings, including one with a unique round cap on top that stands out from the rest.\n",
      "\n",
      "The sky appears overcast, with a hint of blue trying to penetrate through the white and gray clouds. Scattered throughout the image are various numbers and marks, which are not naturally part of the scene but rather have been imposed on the image, possibly for identification or analysis purposes.\n"
     ]
    }
   ],
   "source": [
    "# Segmentation + VLM\n",
    "gpt4v = GPT4V()\n",
    "sam = SAM()\n",
    "agent = SegVLM(segmentor=sam, vlm=gpt4v)\n",
    "\n",
    "result = agent.work(prompt, image)\n",
    "print(result)\n"
   ]
  },
  {
   "cell_type": "code",
   "execution_count": 5,
   "metadata": {},
   "outputs": [
    {
     "name": "stdout",
     "output_type": "stream",
     "text": [
      "The image displays a scenic urban landscape. In the foreground, there is lush greenery with a variety of trees, indicating a park or a garden area. Just beyond the greenery, we can see buildings of various architectural styles. The most prominent one is a multi-storied building with a red-tiled roof and a green facade, which could be an institutional or commercial building. In the background, there are more high-rise buildings, one with reflective glass and a unique curved design, hinting at a modern commercial or office building. We also see a construction crane, suggesting ongoing development in the area. The weather appears to be overcast or cloudy, with no direct sunlight visible in the image.\n"
     ]
    }
   ],
   "source": [
    "# Detection + VLM\n",
    "gpt4v = GPT4V()\n",
    "owl_vit = OWLViT()\n",
    "agent = DetVLM(detector=owl_vit, vlm=gpt4v)\n",
    "\n",
    "result = agent.work(prompt, image)\n",
    "print(result)\n"
   ]
  },
  {
   "cell_type": "code",
   "execution_count": null,
   "metadata": {},
   "outputs": [],
   "source": [
    "# Detection + LLM\n",
    "gpt4v = GPT4V()\n",
    "owl_vit = OWLViT()\n",
    "agent = SegVLM(segmentor=sam, vlm=gpt4v)\n",
    "\n",
    "result = agent.work(prompt)\n",
    "print(result)\n"
   ]
  },
  {
   "cell_type": "code",
   "execution_count": 6,
   "metadata": {},
   "outputs": [
    {
     "data": {
      "text/plain": [
       "[{'score': 0.3141017258167267,\n",
       "  'box': [0.212062269449234,\n",
       "   0.3956533372402191,\n",
       "   0.29010745882987976,\n",
       "   0.08735490590333939],\n",
       "  'box_name': 'roof',\n",
       "  'objectness': 0.09425540268421173},\n",
       " {'score': 0.32486796379089355,\n",
       "  'box': [0.9511756300926208,\n",
       "   0.45574820041656494,\n",
       "   0.08415518701076508,\n",
       "   0.05109325423836708],\n",
       "  'box_name': 'roof',\n",
       "  'objectness': 0.12236481159925461},\n",
       " {'score': 0.43618306517601013,\n",
       "  'box': [0.7464314699172974,\n",
       "   0.3669348955154419,\n",
       "   0.21871830523014069,\n",
       "   0.0474105142056942],\n",
       "  'box_name': 'roof',\n",
       "  'objectness': 0.06783194839954376},\n",
       " {'score': 0.5705604553222656,\n",
       "  'box': [0.1794598400592804,\n",
       "   0.4030904173851013,\n",
       "   0.35850971937179565,\n",
       "   0.11342517286539078],\n",
       "  'box_name': 'roof',\n",
       "  'objectness': 0.14967934787273407}]"
      ]
     },
     "execution_count": 6,
     "metadata": {},
     "output_type": "execute_result"
    }
   ],
   "source": [
    "owl_vit.detect_objects(image=image, text_queries=[\"roof\"], bbox_conf_threshold=0.3)"
   ]
  },
  {
   "cell_type": "code",
   "execution_count": null,
   "metadata": {},
   "outputs": [],
   "source": []
  }
 ],
 "metadata": {
  "kernelspec": {
   "display_name": "cv",
   "language": "python",
   "name": "python3"
  },
  "language_info": {
   "codemirror_mode": {
    "name": "ipython",
    "version": 3
   },
   "file_extension": ".py",
   "mimetype": "text/x-python",
   "name": "python",
   "nbconvert_exporter": "python",
   "pygments_lexer": "ipython3",
   "version": "3.10.13"
  }
 },
 "nbformat": 4,
 "nbformat_minor": 2
}
