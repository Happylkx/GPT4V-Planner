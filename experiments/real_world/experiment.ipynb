{
 "cells": [
  {
   "cell_type": "code",
   "execution_count": 1,
   "metadata": {},
   "outputs": [],
   "source": [
    "%load_ext autoreload\n",
    "%matplotlib inline"
   ]
  },
  {
   "cell_type": "code",
   "execution_count": 2,
   "metadata": {},
   "outputs": [],
   "source": [
    "# python -m pip install 'git+https://github.com/MaureenZOU/detectron2-xyz.git'\n",
    "\n",
    "import numpy as np\n",
    "\n",
    "from PIL import Image\n",
    "import matplotlib.pyplot as plt\n",
    "\n",
    "import sys\n",
    "sys.path.append(\".\")\n",
    "import os\n",
    "\n",
    "from utils.logging import CustomLogger\n",
    "from utils import logging\n",
    "from agents import agent_factory\n",
    "\n",
    "from executor import SimpleExecutor, LineWiseExecutor\n",
    "\n",
    "from utils.image_utils import visualize_image\n"
   ]
  },
  {
   "cell_type": "code",
   "execution_count": 3,
   "metadata": {},
   "outputs": [],
   "source": [
    "logger = CustomLogger()\n",
    "logging.set_logger(logger)"
   ]
  },
  {
   "cell_type": "code",
   "execution_count": null,
   "metadata": {},
   "outputs": [],
   "source": [
    "from environments.real_world import RealWorldEnv\n",
    "env = RealWorldEnv()\n",
    "env.setup()"
   ]
  },
  {
   "cell_type": "code",
   "execution_count": 5,
   "metadata": {},
   "outputs": [],
   "source": [
    "def run_experiment(env, agent, prompt, debug=True):\n",
    "    print(\"Image before planning: \")\n",
    "    image = env.get_image()\n",
    "    visualize_image(image)\n",
    "    plan_result = agent.try_plan(prompt, image)\n",
    "    print(plan_result)\n",
    "    print(\"Annotated image: \")\n",
    "    visualize_image(plan_result.annotated_image)\n",
    "    \n",
    "    if not plan_result.success:\n",
    "        return\n",
    "        \n",
    "    # executor = LineWiseExecutor(env.get_execution_context(), pause_every_line=True)\n",
    "    executor = LineWiseExecutor(env.get_execution_context())\n",
    "    # Build a context containing the masks for the plan code to access\n",
    "    context = {\"regions\": [mask[\"segmentation\"] for mask in plan_result.masks]}\n",
    "    executor.execute_plan(plan_result.plan_code, additional_context=context)\n",
    "\n",
    "    print(\"After manipulation: \")\n",
    "    visualize_image(env.get_image())\n",
    "\n",
    "    return plan_result"
   ]
  },
  {
   "cell_type": "markdown",
   "metadata": {},
   "source": [
    "Specify Your task here."
   ]
  },
  {
   "cell_type": "code",
   "execution_count": 6,
   "metadata": {},
   "outputs": [],
   "source": [
    "prompt=\"\"\"Task: Put the red block into the green bowl.\"\"\""
   ]
  },
  {
   "cell_type": "code",
   "execution_count": null,
   "metadata": {},
   "outputs": [],
   "source": [
    "agent = agent_factory(\"SegVLM\")\n",
    "agent.configs[\"img_size\"] = 640\n",
    "plan_result = run_experiment(env, agent, prompt)"
   ]
  },
  {
   "cell_type": "code",
   "execution_count": 9,
   "metadata": {},
   "outputs": [],
   "source": [
    "logger.save_logs_to_html_file(\"result.html\")"
   ]
  }
 ],
 "metadata": {
  "kernelspec": {
   "display_name": "cv",
   "language": "python",
   "name": "python3"
  },
  "language_info": {
   "codemirror_mode": {
    "name": "ipython",
    "version": 3
   },
   "file_extension": ".py",
   "mimetype": "text/x-python",
   "name": "python",
   "nbconvert_exporter": "python",
   "pygments_lexer": "ipython3",
   "version": "3.10.13"
  }
 },
 "nbformat": 4,
 "nbformat_minor": 2
}
