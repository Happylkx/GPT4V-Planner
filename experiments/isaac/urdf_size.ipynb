{
 "cells": [
  {
   "cell_type": "code",
   "execution_count": 2,
   "metadata": {},
   "outputs": [
    {
     "name": "stdout",
     "output_type": "stream",
     "text": [
      "Size: 0.64690224 x 1.3162836100000002 x 0.08150004999999999\n"
     ]
    }
   ],
   "source": [
    "import pywavefront\n",
    "\n",
    "def get_obj_size(obj_file):\n",
    "    # 加载OBJ文件\n",
    "    scene = pywavefront.Wavefront(obj_file)\n",
    "\n",
    "    # 获取所有顶点的坐标\n",
    "    vertices = scene.vertices\n",
    "\n",
    "    # 计算在X、Y和Z轴上的最大和最小值\n",
    "    min_x = min(vertex[0] for vertex in vertices)\n",
    "    max_x = max(vertex[0] for vertex in vertices)\n",
    "    min_y = min(vertex[1] for vertex in vertices)\n",
    "    max_y = max(vertex[1] for vertex in vertices)\n",
    "    min_z = min(vertex[2] for vertex in vertices)\n",
    "    max_z = max(vertex[2] for vertex in vertices)\n",
    "\n",
    "    # 计算3D大小\n",
    "    size_x = max_x - min_x\n",
    "    size_y = max_y - min_y\n",
    "    size_z = max_z - min_z\n",
    "\n",
    "    return size_x, size_y, size_z\n",
    "\n",
    "# 测试\n",
    "size_x, size_y, size_z = get_obj_size(\"../../environments/isaac_simulation/assets/iphone/iphone13.obj\")\n",
    "print(f\"Size: {size_x} x {size_y} x {size_z}\")"
   ]
  },
  {
   "cell_type": "code",
   "execution_count": null,
   "metadata": {},
   "outputs": [],
   "source": []
  },
  {
   "cell_type": "code",
   "execution_count": null,
   "metadata": {},
   "outputs": [],
   "source": []
  },
  {
   "cell_type": "code",
   "execution_count": null,
   "metadata": {},
   "outputs": [],
   "source": []
  }
 ],
 "metadata": {
  "kernelspec": {
   "display_name": "rlgpu",
   "language": "python",
   "name": "python3"
  },
  "language_info": {
   "codemirror_mode": {
    "name": "ipython",
    "version": 3
   },
   "file_extension": ".py",
   "mimetype": "text/x-python",
   "name": "python",
   "nbconvert_exporter": "python",
   "pygments_lexer": "ipython3",
   "version": "3.8.19"
  }
 },
 "nbformat": 4,
 "nbformat_minor": 2
}
