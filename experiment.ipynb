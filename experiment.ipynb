{
 "cells": [
  {
   "cell_type": "code",
   "execution_count": 1,
   "metadata": {},
   "outputs": [],
   "source": [
    "import numpy as np\n",
    "\n",
    "from PIL import Image\n",
    "import matplotlib.pyplot as plt\n",
    "\n",
    "import sys\n",
    "sys.path.append(\".\")\n",
    "import os\n",
    "# os.environ[\"OPENAI_API_KEY\"]=\"sk-xxxxxx\"\n",
    "\n",
    "from agent.agents import agent_factory"
   ]
  },
  {
   "cell_type": "code",
   "execution_count": 2,
   "metadata": {},
   "outputs": [],
   "source": [
    "def show_image(image):\n",
    "    plt.imshow(image)\n",
    "    plt.axis('off')\n",
    "    plt.show()"
   ]
  },
  {
   "cell_type": "code",
   "execution_count": 3,
   "metadata": {},
   "outputs": [],
   "source": [
    "import requests\n",
    "\n",
    "img_url = \"https://huggingface.co/datasets/huggingface/documentation-images/resolve/main/transformers/tasks/car.jpg\"\n",
    "image = Image.open(requests.get(img_url, stream=True).raw).convert(\"RGB\")\n",
    "\n",
    "\n",
    "prompt=\"\"\"task: I want to get in the car.\"\"\"\n"
   ]
  },
  {
   "cell_type": "code",
   "execution_count": 4,
   "metadata": {},
   "outputs": [
    {
     "data": {
      "text/plain": [
       "PlanResult(success=False,\n",
       " error_message='No objects were detected in the image.',\n",
       " plan_raw=None,\n",
       " masks=None,\n",
       " prompt=None,\n",
       " plan_code=None,\n",
       " annotated_image=None,\n",
       " info_dict={'objects_to_detect': ['refrigerator', 'oven', 'microwave', 'toaster', 'blender', 'coffee maker', 'dishwasher', 'pot', 'pan', 'cutting board', 'knife', 'spoon', 'fork', 'plate', 'bowl', 'cup', 'coaster', 'glass', 'kettle', 'paper towel holder', 'trash can', 'food storage container', 'sofa', 'coffee table', 'television', 'bookshelf', 'armchair', 'floor lamp', 'rug', 'picture frame', 'curtain', 'blanket', 'vase', 'indoor plant', 'remote control', 'candle', 'wall art', 'clock', 'magazine rack']})"
      ]
     },
     "execution_count": 4,
     "metadata": {},
     "output_type": "execute_result"
    }
   ],
   "source": [
    "agent = agent_factory(\"DetLLM\")\n",
    "plan_result = agent.plan(prompt, image)\n",
    "plan_result"
   ]
  },
  {
   "cell_type": "code",
   "execution_count": 5,
   "metadata": {},
   "outputs": [
    {
     "data": {
      "text/plain": [
       "PlanResult(success=True,\n",
       " error_message=None,\n",
       " plan_raw=\"To get into the car, we will need to open the car door. I will identify the part of the image that represents the car's door handle and will instruct the robot to open it.\\n\\n```python\\n# The door handle is likely represented by the mask over the car's handle\\nopen(regions[14])\\n```\\n\\nAfter running the above command, the robot should attempt to open the car door by the handle, allowing you to get inside the car.\",\n",
       " masks=[{'segmentation': array([[False, False, False, ..., False, False, False],\n",
       "       [False, False, False, ..., False, False, False],\n",
       "       [False, False, False, ..., False, False, False],\n",
       "       ...,\n",
       "       [False, False, False, ..., False, False, False],\n",
       "       [False, False, False, ..., False, False, False],\n",
       "       [False, False, False, ..., False, False, False]])}],\n",
       " prompt='task: I want to get in the car.',\n",
       " plan_code=\"\\n# The door handle is likely represented by the mask over the car's handle\\nopen(regions[0])\\n\",\n",
       " annotated_image=<PIL.Image.Image image mode=RGB size=640x480 at 0x7FB2B6687580>,\n",
       " info_dict={'configs': {'img_size': 640, 'label_mode': '1', 'alpha': 0.05}})"
      ]
     },
     "execution_count": 5,
     "metadata": {},
     "output_type": "execute_result"
    }
   ],
   "source": [
    "agent = agent_factory(\"SegVLM\")\n",
    "plan_result = agent.plan(prompt, image)\n",
    "plan_result"
   ]
  },
  {
   "cell_type": "code",
   "execution_count": null,
   "metadata": {},
   "outputs": [],
   "source": []
  }
 ],
 "metadata": {
  "kernelspec": {
   "display_name": "cv",
   "language": "python",
   "name": "python3"
  },
  "language_info": {
   "codemirror_mode": {
    "name": "ipython",
    "version": 3
   },
   "file_extension": ".py",
   "mimetype": "text/x-python",
   "name": "python",
   "nbconvert_exporter": "python",
   "pygments_lexer": "ipython3",
   "version": "3.10.13"
  }
 },
 "nbformat": 4,
 "nbformat_minor": 2
}
