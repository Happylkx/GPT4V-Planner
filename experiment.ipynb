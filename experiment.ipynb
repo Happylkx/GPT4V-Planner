{
 "cells": [
  {
   "cell_type": "code",
   "execution_count": 1,
   "metadata": {},
   "outputs": [],
   "source": [
    "import numpy as np\n",
    "\n",
    "from PIL import Image\n",
    "import matplotlib.pyplot as plt\n",
    "\n",
    "import sys\n",
    "sys.path.append(\".\")\n",
    "import os\n",
    "# os.environ[\"OPENAI_API_KEY\"]=\"sk-xxxxxx\"\n",
    "\n",
    "from agent.agents import agent_factory"
   ]
  },
  {
   "cell_type": "code",
   "execution_count": 2,
   "metadata": {},
   "outputs": [],
   "source": [
    "def show_image(image):\n",
    "    plt.imshow(image)\n",
    "    plt.axis('off')\n",
    "    plt.show()"
   ]
  },
  {
   "cell_type": "code",
   "execution_count": 7,
   "metadata": {},
   "outputs": [],
   "source": [
    "import requests\n",
    "\n",
    "img_url = \"https://huggingface.co/datasets/huggingface/documentation-images/resolve/main/transformers/tasks/car.jpg\"\n",
    "image = Image.open(requests.get(img_url, stream=True).raw).convert(\"RGB\")\n",
    "\n",
    "\n",
    "prompt=\"\"\"task: I want to get in the car.\"\"\"\n"
   ]
  },
  {
   "cell_type": "code",
   "execution_count": 8,
   "metadata": {},
   "outputs": [],
   "source": [
    "agent = agent_factory(\"SegVLM\")"
   ]
  },
  {
   "cell_type": "code",
   "execution_count": 9,
   "metadata": {},
   "outputs": [],
   "source": [
    "plan_code, masks, info_dict = agent.plan(prompt, image, return_info=True)"
   ]
  },
  {
   "cell_type": "code",
   "execution_count": null,
   "metadata": {},
   "outputs": [
    {
     "data": {
      "text/plain": [
       "\"To get into the car, the robot needs to open the car door first. Based on the image you provided and following the given instructions, I'll write a plan that instructs the robot to perform the necessary operation to open the car door.\\n\\nLet's assume the car door is represented by a highlighted region. If any of the highlighted regions by the numbers correspond to the car door handle, that is the region we will use for the `open` operation.\\n\\n```python\\n# We'll use open operation on the door handle region.\\n# In case the region corresponding to the door handle is not highlighted,\\n# this plan would need adjustment with the correct region number.\\nopen(regions[handle_region_number])\\n```\\n\\nSince I can't identify the door handle by a specific number based on the instructions, you must replace `handle_region_number` with the correct region number representing the car door handle before executing the plan.\""
      ]
     },
     "execution_count": 9,
     "metadata": {},
     "output_type": "execute_result"
    }
   ],
   "source": [
    "plan_code"
   ]
  }
 ],
 "metadata": {
  "kernelspec": {
   "display_name": "cv",
   "language": "python",
   "name": "python3"
  },
  "language_info": {
   "codemirror_mode": {
    "name": "ipython",
    "version": 3
   },
   "file_extension": ".py",
   "mimetype": "text/x-python",
   "name": "python",
   "nbconvert_exporter": "python",
   "pygments_lexer": "ipython3",
   "version": "3.10.13"
  }
 },
 "nbformat": 4,
 "nbformat_minor": 2
}
