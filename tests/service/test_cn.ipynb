{
 "cells": [
  {
   "cell_type": "code",
   "execution_count": 5,
   "metadata": {},
   "outputs": [
    {
     "name": "stdout",
     "output_type": "stream",
     "text": [
      "URL http://phoenix0.d2.comp.nus.edu.sg:55563 is not accessible. Error: HTTPConnectionPool(host='phoenix0.d2.comp.nus.edu.sg', port=55563): Max retries exceeded with url: / (Caused by ConnectTimeoutError(<urllib3.connection.HTTPConnection object at 0x7f1ad4550310>, 'Connection to phoenix0.d2.comp.nus.edu.sg timed out. (connect timeout=5)'))\n"
     ]
    }
   ],
   "source": [
    "import requests\n",
    "\n",
    "def check_url(url):\n",
    "    try:\n",
    "        response = requests.get(url, timeout=5)\n",
    "        # 如果响应状态码在200-400之间，那么我们认为URL是可以访问的\n",
    "        if response.status_code >= 200 and response.status_code < 400:\n",
    "            print(f\"URL {url} is accessible.\")\n",
    "        else:\n",
    "            print(f\"URL {url} is not accessible. Status code: {response.status_code}\")\n",
    "    except requests.exceptions.RequestException as err:\n",
    "        print (f\"URL {url} is not accessible. Error: {err}\")\n",
    "\n",
    "# 测试\n",
    "# check_url(\"http://phoenix0.d2.comp.nus.edu.sg:55570\")\n",
    "check_url(\"http://phoenix0.d2.comp.nus.edu.sg:55563\")"
   ]
  }
 ],
 "metadata": {
  "kernelspec": {
   "display_name": "rlgpu",
   "language": "python",
   "name": "python3"
  },
  "language_info": {
   "codemirror_mode": {
    "name": "ipython",
    "version": 3
   },
   "file_extension": ".py",
   "mimetype": "text/x-python",
   "name": "python",
   "nbconvert_exporter": "python",
   "pygments_lexer": "ipython3",
   "version": "3.8.19"
  }
 },
 "nbformat": 4,
 "nbformat_minor": 2
}
